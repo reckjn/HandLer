{
  "cells": [
    {
      "cell_type": "markdown",
      "metadata": {
        "id": "view-in-github",
        "colab_type": "text"
      },
      "source": [
        "<a href=\"https://colab.research.google.com/github/reckjn/HandLer/blob/master/Pitch_Detection_Training.ipynb\" target=\"_parent\"><img src=\"https://colab.research.google.com/assets/colab-badge.svg\" alt=\"Open In Colab\"/></a>"
      ]
    },
    {
      "cell_type": "markdown",
      "source": [
        "# Pitch Detection Neural Network Training"
      ],
      "metadata": {
        "id": "GQnpreqtOUBO"
      }
    },
    {
      "cell_type": "markdown",
      "source": [
        "## Setup\n",
        "\n"
      ],
      "metadata": {
        "id": "kY37Bw6fPPzc"
      }
    },
    {
      "cell_type": "markdown",
      "source": [
        "### Cloning the Repository"
      ],
      "metadata": {
        "id": "UmXN1idpQ8Um"
      }
    },
    {
      "cell_type": "markdown",
      "source": [
        "There are two options of cloning the repo:\n",
        "1. Uploading the files manually to colab via drag and drop\n",
        "2. Executing the following cell (requires github personal access token)"
      ],
      "metadata": {
        "id": "duzO29lmQ3Vd"
      }
    },
    {
      "cell_type": "code",
      "execution_count": null,
      "metadata": {
        "id": "YI-ppHL9oKLX"
      },
      "outputs": [],
      "source": [
        "# !!If you have two factor auth, create a personal access token and use it instead of password!!\n",
        "# https://github.com/settings/tokens\n",
        "\n",
        "from getpass import getpass\n",
        "import os\n",
        "import pandas as pd\n",
        "import datetime\n",
        "\n",
        "os.environ['USER'] = input('Enter the username of your Github account: ')\n",
        "os.environ['PASSWORD'] = getpass('Enter the password of your Github account: ')\n",
        "os.environ['GITHUB_AUTH'] = os.environ['USER'] + ':' + os.environ['PASSWORD']\n",
        "!rm -rf $REPOSITORY # To remove the previous clone of the Github repository\n",
        "!git clone https://$GITHUB_AUTH@github.com/flowkey/note-detection-pytorch.git\n",
        "\n",
        "os.environ['USER'] = os.environ['PASSWORD'] = os.environ['GITHUB_AUTH'] = \"\"\n",
        "\n",
        "%cd note-detection-pytorch"
      ]
    },
    {
      "cell_type": "markdown",
      "source": [
        "### Installing packages"
      ],
      "metadata": {
        "id": "5NwyB4LvQQ8E"
      }
    },
    {
      "cell_type": "code",
      "execution_count": null,
      "metadata": {
        "id": "QzkrMavYoSUY"
      },
      "outputs": [],
      "source": [
        "!pip install -r requirements.txt"
      ]
    },
    {
      "cell_type": "markdown",
      "source": [
        "## Training"
      ],
      "metadata": {
        "id": "4Cv2LM31Qtes"
      }
    },
    {
      "cell_type": "code",
      "execution_count": null,
      "metadata": {
        "id": "h_3PZffPv-sq"
      },
      "outputs": [],
      "source": [
        "!python dnn_training.py --config config_LL_maestro.yml"
      ]
    },
    {
      "cell_type": "markdown",
      "source": [
        "## Continuing training from a checkpoint"
      ],
      "metadata": {
        "id": "N31EMjXsRTpz"
      }
    },
    {
      "cell_type": "markdown",
      "source": [
        "If you want to continue the training of a model because the training got interrupted or you just want to train it for longer just use the following cell.\n",
        "\n",
        "For YOUR_MODEL_NAME enter your model name so e.g. LowLatencyCNNv2_20230810-071626"
      ],
      "metadata": {
        "id": "HNFuHJXtTf_X"
      }
    },
    {
      "cell_type": "code",
      "source": [
        "!python dnn_training.py --model_name \"YOUR_MODEL_NAME\""
      ],
      "metadata": {
        "id": "RX2e1wmqRch1"
      },
      "execution_count": null,
      "outputs": []
    }
  ],
  "metadata": {
    "accelerator": "GPU",
    "colab": {
      "provenance": [],
      "gpuType": "T4",
      "authorship_tag": "ABX9TyNHlAVu6qzrt0Jg8biLGtxV",
      "include_colab_link": true
    },
    "kernelspec": {
      "display_name": "Python 3",
      "name": "python3"
    },
    "language_info": {
      "name": "python"
    }
  },
  "nbformat": 4,
  "nbformat_minor": 0
}